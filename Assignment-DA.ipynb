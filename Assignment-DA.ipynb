{
 "cells": [
  {
   "cell_type": "code",
   "execution_count": 1,
   "id": "7d57f0f3-286a-4272-bdd0-597245f3741e",
   "metadata": {},
   "outputs": [],
   "source": [
    "import pandas as pd"
   ]
  },
  {
   "cell_type": "code",
   "execution_count": 3,
   "id": "ff4b32e8-1873-46b0-81f7-1ded8d7578fe",
   "metadata": {},
   "outputs": [
    {
     "name": "stdout",
     "output_type": "stream",
     "text": [
      "Requirement already satisfied: gspread in c:\\users\\iccen\\anaconda3\\lib\\site-packages (6.1.3)\n",
      "Requirement already satisfied: oauth2client in c:\\users\\iccen\\anaconda3\\lib\\site-packages (4.1.3)\n",
      "Requirement already satisfied: google-auth>=1.12.0 in c:\\users\\iccen\\anaconda3\\lib\\site-packages (from gspread) (2.35.0)\n",
      "Requirement already satisfied: google-auth-oauthlib>=0.4.1 in c:\\users\\iccen\\anaconda3\\lib\\site-packages (from gspread) (1.2.1)\n",
      "Requirement already satisfied: httplib2>=0.9.1 in c:\\users\\iccen\\anaconda3\\lib\\site-packages (from oauth2client) (0.22.0)\n",
      "Requirement already satisfied: pyasn1>=0.1.7 in c:\\users\\iccen\\anaconda3\\lib\\site-packages (from oauth2client) (0.4.8)\n",
      "Requirement already satisfied: pyasn1-modules>=0.0.5 in c:\\users\\iccen\\anaconda3\\lib\\site-packages (from oauth2client) (0.2.8)\n",
      "Requirement already satisfied: rsa>=3.1.4 in c:\\users\\iccen\\anaconda3\\lib\\site-packages (from oauth2client) (4.9)\n",
      "Requirement already satisfied: six>=1.6.1 in c:\\users\\iccen\\anaconda3\\lib\\site-packages (from oauth2client) (1.16.0)\n",
      "Requirement already satisfied: cachetools<6.0,>=2.0.0 in c:\\users\\iccen\\anaconda3\\lib\\site-packages (from google-auth>=1.12.0->gspread) (5.3.3)\n",
      "Requirement already satisfied: requests-oauthlib>=0.7.0 in c:\\users\\iccen\\anaconda3\\lib\\site-packages (from google-auth-oauthlib>=0.4.1->gspread) (2.0.0)\n",
      "Requirement already satisfied: pyparsing!=3.0.0,!=3.0.1,!=3.0.2,!=3.0.3,<4,>=2.4.2 in c:\\users\\iccen\\anaconda3\\lib\\site-packages (from httplib2>=0.9.1->oauth2client) (3.0.9)\n",
      "Requirement already satisfied: oauthlib>=3.0.0 in c:\\users\\iccen\\anaconda3\\lib\\site-packages (from requests-oauthlib>=0.7.0->google-auth-oauthlib>=0.4.1->gspread) (3.2.2)\n",
      "Requirement already satisfied: requests>=2.0.0 in c:\\users\\iccen\\anaconda3\\lib\\site-packages (from requests-oauthlib>=0.7.0->google-auth-oauthlib>=0.4.1->gspread) (2.32.2)\n",
      "Requirement already satisfied: charset-normalizer<4,>=2 in c:\\users\\iccen\\anaconda3\\lib\\site-packages (from requests>=2.0.0->requests-oauthlib>=0.7.0->google-auth-oauthlib>=0.4.1->gspread) (2.0.4)\n",
      "Requirement already satisfied: idna<4,>=2.5 in c:\\users\\iccen\\anaconda3\\lib\\site-packages (from requests>=2.0.0->requests-oauthlib>=0.7.0->google-auth-oauthlib>=0.4.1->gspread) (3.7)\n",
      "Requirement already satisfied: urllib3<3,>=1.21.1 in c:\\users\\iccen\\anaconda3\\lib\\site-packages (from requests>=2.0.0->requests-oauthlib>=0.7.0->google-auth-oauthlib>=0.4.1->gspread) (2.2.2)\n",
      "Requirement already satisfied: certifi>=2017.4.17 in c:\\users\\iccen\\anaconda3\\lib\\site-packages (from requests>=2.0.0->requests-oauthlib>=0.7.0->google-auth-oauthlib>=0.4.1->gspread) (2024.8.30)\n",
      "Note: you may need to restart the kernel to use updated packages.\n"
     ]
    }
   ],
   "source": [
    "pip install gspread oauth2client"
   ]
  },
  {
   "cell_type": "code",
   "execution_count": 4,
   "id": "7946ba9c-08a1-4cbe-8c06-3b57ac7fc119",
   "metadata": {},
   "outputs": [],
   "source": [
    "from google.oauth2.service_account import Credentials"
   ]
  },
  {
   "cell_type": "code",
   "execution_count": 5,
   "id": "f015135e-f7d1-4634-bcb7-7544602f97c3",
   "metadata": {},
   "outputs": [],
   "source": [
    "# Define the scope and authenticate using the credentials JSON file\n",
    "scope = [\"https://spreadsheets.google.com/feeds\", \"https://www.googleapis.com/auth/drive\"]\n",
    "creds = Credentials.from_service_account_file(r'C:\\Users\\iccen\\Desktop\\DA-Task\\da-assessment-437914-51755eea63c3.json', scopes=scope)"
   ]
  },
  {
   "cell_type": "code",
   "execution_count": 6,
   "id": "3112b05a-70cc-4213-b646-177c2063342d",
   "metadata": {},
   "outputs": [],
   "source": [
    "import gspread"
   ]
  },
  {
   "cell_type": "code",
   "execution_count": 11,
   "id": "446937e5-0361-4630-b7c9-a47ab2674c7c",
   "metadata": {},
   "outputs": [],
   "source": [
    "# Authorize the client\n",
    "client = gspread.authorize(creds)"
   ]
  },
  {
   "cell_type": "code",
   "execution_count": 13,
   "id": "1c9e409f-4dba-4484-acd5-fdeb1b809c68",
   "metadata": {},
   "outputs": [
    {
     "name": "stdout",
     "output_type": "stream",
     "text": [
      "Requirement already satisfied: gspread in c:\\users\\iccen\\anaconda3\\lib\\site-packages (6.1.3)\n",
      "Requirement already satisfied: google-auth in c:\\users\\iccen\\anaconda3\\lib\\site-packages (2.35.0)\n",
      "Requirement already satisfied: google-auth-oauthlib>=0.4.1 in c:\\users\\iccen\\anaconda3\\lib\\site-packages (from gspread) (1.2.1)\n",
      "Requirement already satisfied: cachetools<6.0,>=2.0.0 in c:\\users\\iccen\\anaconda3\\lib\\site-packages (from google-auth) (5.3.3)\n",
      "Requirement already satisfied: pyasn1-modules>=0.2.1 in c:\\users\\iccen\\anaconda3\\lib\\site-packages (from google-auth) (0.2.8)\n",
      "Requirement already satisfied: rsa<5,>=3.1.4 in c:\\users\\iccen\\anaconda3\\lib\\site-packages (from google-auth) (4.9)\n",
      "Requirement already satisfied: requests-oauthlib>=0.7.0 in c:\\users\\iccen\\anaconda3\\lib\\site-packages (from google-auth-oauthlib>=0.4.1->gspread) (2.0.0)\n",
      "Requirement already satisfied: pyasn1<0.5.0,>=0.4.6 in c:\\users\\iccen\\anaconda3\\lib\\site-packages (from pyasn1-modules>=0.2.1->google-auth) (0.4.8)\n",
      "Requirement already satisfied: oauthlib>=3.0.0 in c:\\users\\iccen\\anaconda3\\lib\\site-packages (from requests-oauthlib>=0.7.0->google-auth-oauthlib>=0.4.1->gspread) (3.2.2)\n",
      "Requirement already satisfied: requests>=2.0.0 in c:\\users\\iccen\\anaconda3\\lib\\site-packages (from requests-oauthlib>=0.7.0->google-auth-oauthlib>=0.4.1->gspread) (2.32.2)\n",
      "Requirement already satisfied: charset-normalizer<4,>=2 in c:\\users\\iccen\\anaconda3\\lib\\site-packages (from requests>=2.0.0->requests-oauthlib>=0.7.0->google-auth-oauthlib>=0.4.1->gspread) (2.0.4)\n",
      "Requirement already satisfied: idna<4,>=2.5 in c:\\users\\iccen\\anaconda3\\lib\\site-packages (from requests>=2.0.0->requests-oauthlib>=0.7.0->google-auth-oauthlib>=0.4.1->gspread) (3.7)\n",
      "Requirement already satisfied: urllib3<3,>=1.21.1 in c:\\users\\iccen\\anaconda3\\lib\\site-packages (from requests>=2.0.0->requests-oauthlib>=0.7.0->google-auth-oauthlib>=0.4.1->gspread) (2.2.2)\n",
      "Requirement already satisfied: certifi>=2017.4.17 in c:\\users\\iccen\\anaconda3\\lib\\site-packages (from requests>=2.0.0->requests-oauthlib>=0.7.0->google-auth-oauthlib>=0.4.1->gspread) (2024.8.30)\n",
      "Note: you may need to restart the kernel to use updated packages.\n"
     ]
    }
   ],
   "source": [
    "pip install gspread google-auth"
   ]
  },
  {
   "cell_type": "code",
   "execution_count": 21,
   "id": "c943d025-afd0-41ea-a6d5-7a492a7583a7",
   "metadata": {},
   "outputs": [],
   "source": [
    "spreadsheet = client.open(\"data cleanup assignment\")"
   ]
  },
  {
   "cell_type": "code",
   "execution_count": 23,
   "id": "51599af3-379f-4d37-9595-1110e79378b6",
   "metadata": {},
   "outputs": [],
   "source": [
    "# Load data from different google sheets into pandas DataFrames\n",
    "sheet_DE = spreadsheet.worksheet(\"DE\")\n",
    "sheet_AT= spreadsheet.worksheet(\"AT\")\n",
    "sheet_CH = spreadsheet.worksheet(\"CH\")\n",
    "sheet_mixed = spreadsheet.worksheet(\"mixed\")"
   ]
  },
  {
   "cell_type": "code",
   "execution_count": 27,
   "id": "f261b0dc-ddca-464d-8b68-a496a94c2cf8",
   "metadata": {},
   "outputs": [],
   "source": [
    "# Convert the sheet data into pandas DataFrames\n",
    "df1 = pd.DataFrame(sheet_DE.get_all_records())  \n",
    "df2 = pd.DataFrame(sheet_AT.get_all_records())  \n",
    "df3 = pd.DataFrame(sheet_CH.get_all_records())   \n",
    "df4 = pd.DataFrame(sheet_mixed.get_all_records())"
   ]
  },
  {
   "cell_type": "code",
   "execution_count": 29,
   "id": "8d6a5c0d-9a3f-4f06-b846-d313ecaf9080",
   "metadata": {},
   "outputs": [
    {
     "name": "stdout",
     "output_type": "stream",
     "text": [
      "                       firma                 street    plz       city  \\\n",
      "0    Abschleppdienst Arnolds  Völlesbruchstrasse 19  52152  Simmerath   \n",
      "1              AAS-Fink GmbH            Morsbach 39  42857  Remscheid   \n",
      "2  Allfolia Deutschland GmbH            Morsbach 39  42857  Remscheid   \n",
      "3    Autohaus Hentschel GmbH  Vahrenwalder Str. 141  30165   Hannover   \n",
      "4      Autohaus Schmohl GmbH     Potsdamer Str. 175  14469    Potsdam   \n",
      "\n",
      "  old_ctry           telefon  \n",
      "0       DE   0049177-8754883  \n",
      "1       DE        172.208606  \n",
      "2       DE      491734636476  \n",
      "3       DE   +49\u001d",
      "17\u001186221169  \n",
      "4       DE  0049/160466 6050  \n"
     ]
    }
   ],
   "source": [
    "#check the loaded data\n",
    "print(df1.head())"
   ]
  },
  {
   "cell_type": "code",
   "execution_count": 31,
   "id": "03b83038-9160-401e-b4f7-76eea64139c2",
   "metadata": {},
   "outputs": [],
   "source": [
    "# Standardize the column names before merging\n",
    "\n",
    "# For df1 (sheet_DE)\n",
    "df1.rename(columns={\n",
    "    'old_ctry': 'country'\n",
    "}, inplace=True)\n",
    "\n",
    "# For df4 (sheet_mixed)\n",
    "df4.rename(columns={\n",
    "    'landesvorwahl': 'country',\n",
    "    'telefonnr': 'telefon'\n",
    "}, inplace=True)"
   ]
  },
  {
   "cell_type": "code",
   "execution_count": 33,
   "id": "2a532f7d-cfe6-414f-9657-c2a072e15363",
   "metadata": {},
   "outputs": [
    {
     "name": "stdout",
     "output_type": "stream",
     "text": [
      "['firma', 'street', 'plz', 'city', 'country', 'telefon', 'anrede', 'vorname', 'nachname']\n"
     ]
    }
   ],
   "source": [
    "#check the renamed columns for df4\n",
    "print(df4.columns.tolist())"
   ]
  },
  {
   "cell_type": "code",
   "execution_count": 35,
   "id": "82e73027-60f4-4085-a891-8512122aec4d",
   "metadata": {},
   "outputs": [
    {
     "name": "stdout",
     "output_type": "stream",
     "text": [
      "Unique values in df1 country column: ['DE']\n",
      "Unique values in df2 country column: ['AT']\n",
      "Unique values in df3 country column: ['CH']\n",
      "Unique values in df4 country column: [49 43 41 12 '' 39 44]\n"
     ]
    }
   ],
   "source": [
    "# Check the unique values in country column\n",
    "print(\"Unique values in df1 country column:\", df1['country'].unique())\n",
    "print(\"Unique values in df2 country column:\", df2['country'].unique())\n",
    "print(\"Unique values in df3 country column:\", df3['country'].unique())\n",
    "print(\"Unique values in df4 country column:\", df4['country'].unique())"
   ]
  },
  {
   "cell_type": "code",
   "execution_count": 37,
   "id": "bf6fa5c3-d425-4127-a3b2-db392b0f4d01",
   "metadata": {},
   "outputs": [
    {
     "name": "stdout",
     "output_type": "stream",
     "text": [
      "country\n",
      "49    3429\n",
      "41     114\n",
      "43      70\n",
      "         2\n",
      "12       1\n",
      "39       1\n",
      "44       1\n",
      "Name: count, dtype: int64\n"
     ]
    }
   ],
   "source": [
    "# check the count of the different values in df4\n",
    "print(df4['country'].value_counts())"
   ]
  },
  {
   "cell_type": "code",
   "execution_count": 39,
   "id": "ff9ed6ac-ff55-4c98-8642-7e05854fd10b",
   "metadata": {},
   "outputs": [],
   "source": [
    "# Remove rows with 39, 44, 12, 4, assuming our market focus is in DE, AT and CH country codes.\n",
    "df4 = df4[~df4['country'].isin(['39', '12', '44', '4'])]"
   ]
  },
  {
   "cell_type": "code",
   "execution_count": 41,
   "id": "daf27e41-5a4a-49a3-8edd-f977156205da",
   "metadata": {},
   "outputs": [
    {
     "name": "stdout",
     "output_type": "stream",
     "text": [
      "country\n",
      "49    3429\n",
      "41     114\n",
      "43      70\n",
      "         2\n",
      "12       1\n",
      "39       1\n",
      "44       1\n",
      "Name: count, dtype: int64\n"
     ]
    }
   ],
   "source": [
    "# check the count of the different values in df4\n",
    "print(df4['country'].value_counts())"
   ]
  },
  {
   "cell_type": "code",
   "execution_count": 47,
   "id": "b559e7a4-9367-40af-b6dd-c42bf0a582ea",
   "metadata": {},
   "outputs": [],
   "source": [
    "# Remove all other countries assuming we are focused on DE, AT and CH\n",
    "df4 = df4[~df4['country'].isin([39, 12, 44, 4, \"\"])]"
   ]
  },
  {
   "cell_type": "code",
   "execution_count": 49,
   "id": "259f9de7-fd2c-4b16-b032-c3c1f356f815",
   "metadata": {},
   "outputs": [
    {
     "name": "stdout",
     "output_type": "stream",
     "text": [
      "country\n",
      "49    3429\n",
      "41     114\n",
      "43      70\n",
      "Name: count, dtype: int64\n"
     ]
    }
   ],
   "source": [
    "# check the count of the different values in df4\n",
    "print(df4['country'].value_counts())"
   ]
  },
  {
   "cell_type": "code",
   "execution_count": 51,
   "id": "d75f34cd-bee3-4bd3-a669-e6882ba05b3c",
   "metadata": {},
   "outputs": [],
   "source": [
    "# Concatenate the DataFrames df1 to df4 together and reset the index\n",
    "df_combined = pd.concat([df1, df2, df3, df4], ignore_index=True)"
   ]
  },
  {
   "cell_type": "code",
   "execution_count": 53,
   "id": "b4988131-f0af-41ca-b9ce-dd5aaa9a7c75",
   "metadata": {},
   "outputs": [
    {
     "name": "stdout",
     "output_type": "stream",
     "text": [
      "     firma                  street    plz      city country       telefon  \\\n",
      "4765                                44809                49   23490401110   \n",
      "4766                                71336                49  715116799710   \n",
      "4767        Dr.- Kessel-Straße 11   40878  Ratingen      49   21029434997   \n",
      "4768             Bismarckstr. 104   47443     Moers      49     284151254   \n",
      "4769                 Herrnacker 7   61276   Weilrod      49   60833299884   \n",
      "\n",
      "     anrede vorname nachname  \n",
      "4765                          \n",
      "4766                          \n",
      "4767                          \n",
      "4768                          \n",
      "4769                          \n"
     ]
    }
   ],
   "source": [
    "print(df_combined.tail())"
   ]
  },
  {
   "cell_type": "code",
   "execution_count": 55,
   "id": "2c59ddfd-ebbf-4e82-9208-99386aa4980e",
   "metadata": {},
   "outputs": [],
   "source": [
    "#import regex to handle the cleaning of the data\n",
    "import re"
   ]
  },
  {
   "cell_type": "code",
   "execution_count": 57,
   "id": "1d2ffac9-3582-4235-b140-d50539a6e7a3",
   "metadata": {},
   "outputs": [],
   "source": [
    "# Change the telefon column to string before cleaning\n",
    "df_combined['telefon'] = df_combined['telefon'].astype(str)"
   ]
  },
  {
   "cell_type": "code",
   "execution_count": 59,
   "id": "4063ba65-027f-4df4-a840-29b7f1d5f212",
   "metadata": {},
   "outputs": [],
   "source": [
    "# Remove all non numeric number and non plus\n",
    "df_combined[\"telefon2\"] = df_combined[\"telefon\"].str.replace(r'[^0-9+]', '', regex=True)"
   ]
  },
  {
   "cell_type": "code",
   "execution_count": 61,
   "id": "e9f9f0a8-82bb-4812-8736-1ccca7dfaa21",
   "metadata": {},
   "outputs": [
    {
     "name": "stdout",
     "output_type": "stream",
     "text": [
      "               telefon        telefon2\n",
      "0      0049177-8754883  00491778754883\n",
      "1          172.2086056      1722086056\n",
      "2         491734636476    491734636476\n",
      "3      +49\u001d",
      "17\u001186221169   +491786221169\n",
      "4     0049/160466 6050  00491604666050\n",
      "...                ...             ...\n",
      "4765       23490401110     23490401110\n",
      "4766      715116799710    715116799710\n",
      "4767       21029434997     21029434997\n",
      "4768         284151254       284151254\n",
      "4769       60833299884     60833299884\n",
      "\n",
      "[4770 rows x 2 columns]\n"
     ]
    }
   ],
   "source": [
    "print(df_combined[['telefon', 'telefon2']])"
   ]
  },
  {
   "cell_type": "code",
   "execution_count": 63,
   "id": "3ee04e96-38a0-434c-8ad6-9ca76fcaf42e",
   "metadata": {},
   "outputs": [
    {
     "data": {
      "text/plain": [
       "array(['DE', 'AT', 'CH', 49, 43, 41], dtype=object)"
      ]
     },
     "execution_count": 63,
     "metadata": {},
     "output_type": "execute_result"
    }
   ],
   "source": [
    "df_combined['country'].unique()"
   ]
  },
  {
   "cell_type": "code",
   "execution_count": 65,
   "id": "e14d54e2-9bb2-40fb-b155-ff43d22900c1",
   "metadata": {},
   "outputs": [],
   "source": [
    "# Replace 49, 43 and 41 with DE, AT and CH respectively\n",
    "df_combined['country'] = df_combined['country'].astype(str).replace({'49': 'DE', '43': 'AT', '41': 'CH'})"
   ]
  },
  {
   "cell_type": "code",
   "execution_count": 67,
   "id": "a824ae27-991b-4c69-833f-96f8920a10ff",
   "metadata": {},
   "outputs": [
    {
     "data": {
      "text/plain": [
       "array(['DE', 'AT', 'CH'], dtype=object)"
      ]
     },
     "execution_count": 67,
     "metadata": {},
     "output_type": "execute_result"
    }
   ],
   "source": [
    "df_combined['country'].unique()"
   ]
  },
  {
   "cell_type": "code",
   "execution_count": 69,
   "id": "e8aa216d-55f1-4d1d-aefd-4a8765d40fec",
   "metadata": {},
   "outputs": [
    {
     "name": "stdout",
     "output_type": "stream",
     "text": [
      "Number of duplicate rows: 26\n"
     ]
    }
   ],
   "source": [
    "# Check the count of duplicate records\n",
    "duplicate_count = df_combined.duplicated().sum()\n",
    "print(f\"Number of duplicate rows: {duplicate_count}\")"
   ]
  },
  {
   "cell_type": "code",
   "execution_count": 71,
   "id": "bb54f3da-79c7-4ca4-81db-0d609bc372e9",
   "metadata": {},
   "outputs": [],
   "source": [
    "# Remove duplicates while keeping the last entry\n",
    "df_combined = df_combined.drop_duplicates(keep='last')"
   ]
  },
  {
   "cell_type": "code",
   "execution_count": 73,
   "id": "505b8811-56f6-464f-874a-2bde13920fec",
   "metadata": {},
   "outputs": [
    {
     "name": "stdout",
     "output_type": "stream",
     "text": [
      "     country        telefon2\n",
      "0         DE  00491778754883\n",
      "1         DE      1722086056\n",
      "2         DE    491734636476\n",
      "3         DE  00491786221169\n",
      "4         DE  00491604666050\n",
      "...      ...             ...\n",
      "4765      DE     23490401110\n",
      "4766      DE    715116799710\n",
      "4767      DE     21029434997\n",
      "4768      DE       284151254\n",
      "4769      DE     60833299884\n",
      "\n",
      "[4744 rows x 2 columns]\n"
     ]
    }
   ],
   "source": [
    "# Replace '+' with '00' in the telefon2 column\n",
    "df_combined['telefon2'] = df_combined['telefon2'].str.replace('+', '00', regex=False)\n",
    "\n",
    "# Display the updated DataFrame\n",
    "print(df_combined[['country', 'telefon2']])"
   ]
  },
  {
   "cell_type": "code",
   "execution_count": 89,
   "id": "8319714c-b83b-4683-a089-26809e31667b",
   "metadata": {},
   "outputs": [
    {
     "name": "stdout",
     "output_type": "stream",
     "text": [
      "   country        telefon2\n",
      "0       DE  00491778754883\n",
      "1       DE      1722086056\n",
      "2       DE    491734636476\n",
      "3       DE  00491786221169\n",
      "4       DE  00491604666050\n",
      "5       DE  00491751165373\n",
      "6       DE    491735330785\n",
      "7       DE    491750397296\n",
      "8       DE  00491799703167\n",
      "9       DE  00491748987808\n",
      "10      DE  00491769142078\n",
      "11      DE    491600795434\n",
      "12      DE  17800996780049\n",
      "13      DE  00491789135039\n",
      "14      DE  00491770634678\n",
      "15      DE  00491733091370\n",
      "16      DE    491739990273\n",
      "17      DE    491779716592\n",
      "18      DE      1790018238\n",
      "19      DE  17606998740049\n",
      "20      DE  00491774376638\n",
      "21      DE    004578976173\n",
      "22      DE    491521029742\n",
      "23      DE  15222170510049\n",
      "24      DE  17949358360049\n",
      "25      DE      1770859851\n",
      "26      DE    491776659132\n",
      "27      DE  17477777300049\n",
      "28      DE      1526516945\n",
      "29      DE      1769029428\n",
      "30      DE    491792236285\n",
      "31      DE    491609647354\n",
      "32      DE    491520780234\n",
      "33      DE  00491607443158\n",
      "34      DE  00491723584620\n",
      "35      DE    005820795177\n",
      "36      DE    491778044748\n",
      "37      DE  00491735400152\n",
      "38      DE    491771520076\n",
      "39      DE    002925473176\n",
      "40      DE    491771354319\n",
      "41      DE    491787148441\n",
      "42      DE  00491794465706\n",
      "43      DE  00491742072992\n",
      "44      DE      1766591159\n",
      "45      DE  00491773202944\n",
      "46      DE      1732506737\n",
      "47      DE      1799890329\n",
      "48      DE  00491736902022\n",
      "49      DE      1748026295\n",
      "50      DE  00491708399374\n",
      "51      DE  00491721086976\n",
      "52      DE    491779729336\n",
      "53      DE    491795517077\n",
      "54      DE    491794892131\n",
      "55      DE    009820250160\n",
      "56      DE    004796156160\n",
      "57      DE      1702445015\n",
      "58      DE  17315894700049\n",
      "59      DE  00491788234847\n",
      "60      DE    491523788743\n",
      "61      DE      1748727753\n",
      "62      DE      1603889856\n",
      "63      DE  00491729432073\n",
      "64      DE    491761765671\n",
      "65      DE    491784798800\n",
      "66      DE    009545208160\n",
      "67      DE  17206731950049\n",
      "68      DE    491798775413\n",
      "69      DE       172785895\n",
      "70      DE      1769709369\n",
      "71      DE    491757646100\n",
      "72      DE    491723731310\n",
      "73      DE    491768210485\n",
      "74      DE  00491739872218\n",
      "75      DE    491768118652\n",
      "76      DE  00491738026985\n",
      "77      DE    491737774443\n",
      "78      DE      1767532745\n",
      "79      DE    491749296946\n",
      "80      DE  17438841500049\n",
      "81      DE  00491797078937\n",
      "82      DE    004725521172\n",
      "83      DE      1794432414\n",
      "84      DE  00491784513261\n",
      "85      DE    491601428593\n",
      "86      DE  00491601476542\n",
      "87      DE    491726898737\n",
      "88      DE    491796791091\n",
      "89      DE    491767473728\n",
      "90      DE  00491764571625\n",
      "91      DE  00491783848268\n",
      "92      DE  00491739114497\n",
      "93      DE    491766952990\n",
      "94      DE    491720738396\n",
      "95      DE  17513494550049\n",
      "96      DE    491604577921\n",
      "97      DE    003997553152\n",
      "98      DE  00491521656147\n",
      "99      DE  00491523969801\n"
     ]
    }
   ],
   "source": [
    "pd.set_option('display.max_rows', None)\n",
    "print(df_combined[['country', 'telefon2']].head(100))"
   ]
  },
  {
   "cell_type": "code",
   "execution_count": 75,
   "id": "a95317b3-a9d3-45a0-ac2b-409eab2bbab8",
   "metadata": {},
   "outputs": [],
   "source": [
    "# Move '0049' from the end to the start for country 'DE'\n",
    "df_combined.loc[df_combined['country'] == 'DE', 'telefon2'] = df_combined.loc[\n",
    "    df_combined['country'] == 'DE', 'telefon2'].apply(\n",
    "        lambda x: '0049' + x[:-4] if x.endswith('0049') else x\n",
    "    )"
   ]
  },
  {
   "cell_type": "code",
   "execution_count": 77,
   "id": "1ccaed1b-4f1d-4507-92a3-2dc630c8b99b",
   "metadata": {},
   "outputs": [],
   "source": [
    "# Format telefon2 to telefon3 and make all the DE numbers start with 0049\n",
    "df_combined.loc[df_combined['country'] == 'DE', 'telefon3'] = df_combined.loc[\n",
    "    df_combined['country'] == 'DE', 'telefon2'].apply(\n",
    "        lambda x: x if x.startswith('0049') else\n",
    "        ('00' + x[2:] if x.startswith('00') and '49' not in x[2:] else \n",
    "        ('0049' + x if not x.startswith(('00', '49')) else \n",
    "        ('00' + x if x.startswith('49') else x))))"
   ]
  },
  {
   "cell_type": "code",
   "execution_count": 79,
   "id": "19959d93-51e0-4bea-90fb-d29b12e2195f",
   "metadata": {},
   "outputs": [
    {
     "name": "stdout",
     "output_type": "stream",
     "text": [
      "  country        telefon2        telefon3\n",
      "0      DE  00491778754883  00491778754883\n",
      "1      DE      1722086056  00491722086056\n",
      "2      DE    491734636476  00491734636476\n",
      "3      DE  00491786221169  00491786221169\n",
      "4      DE  00491604666050  00491604666050\n",
      "5      DE  00491751165373  00491751165373\n",
      "6      DE    491735330785  00491735330785\n",
      "7      DE    491750397296  00491750397296\n",
      "8      DE  00491799703167  00491799703167\n",
      "9      DE  00491748987808  00491748987808\n"
     ]
    }
   ],
   "source": [
    "print(df_combined[['country', 'telefon2', 'telefon3']].head(10))"
   ]
  },
  {
   "cell_type": "code",
   "execution_count": 81,
   "id": "85fbfc8c-b584-42fd-ac38-a0329a561eb7",
   "metadata": {},
   "outputs": [],
   "source": [
    "# Format telefon3 further for country 'DE'\n",
    "df_combined.loc[df_combined['country'] == 'DE', 'telefon4'] = df_combined.loc[\n",
    "    df_combined['country'] == 'DE', 'telefon3'].apply(\n",
    "        lambda x: x if x.startswith('0049') else\n",
    "        (x[:2] + '49' + x[2:] if x.startswith('00') and not x.startswith('0049') else \n",
    "        ('00' + x if x.startswith('49') else \n",
    "        ('0049' + x if not x.startswith(('00', '49')) else x)))\n",
    "    )"
   ]
  },
  {
   "cell_type": "code",
   "execution_count": 83,
   "id": "36280fb2-18c4-4d7c-a251-d98a55a64d00",
   "metadata": {},
   "outputs": [
    {
     "name": "stdout",
     "output_type": "stream",
     "text": [
      "   country        telefon2        telefon3        telefon4\n",
      "0       DE  00491778754883  00491778754883  00491778754883\n",
      "1       DE      1722086056  00491722086056  00491722086056\n",
      "2       DE    491734636476  00491734636476  00491734636476\n",
      "3       DE  00491786221169  00491786221169  00491786221169\n",
      "4       DE  00491604666050  00491604666050  00491604666050\n",
      "..     ...             ...             ...             ...\n",
      "95      DE  00491751349455  00491751349455  00491751349455\n",
      "96      DE    491604577921  00491604577921  00491604577921\n",
      "97      DE    003997553152    003997553152  00493997553152\n",
      "98      DE  00491521656147  00491521656147  00491521656147\n",
      "99      DE  00491523969801  00491523969801  00491523969801\n",
      "\n",
      "[100 rows x 4 columns]\n"
     ]
    }
   ],
   "source": [
    "print(df_combined[['country', 'telefon2', 'telefon3', 'telefon4']].head(100))"
   ]
  },
  {
   "cell_type": "code",
   "execution_count": 85,
   "id": "52e29817-2e7b-4f71-8dfc-a65646c2e83d",
   "metadata": {},
   "outputs": [],
   "source": [
    "# Move '0043' from the end to the start for country 'AT'\n",
    "df_combined.loc[df_combined['country'] == 'AT', 'telefon2'] = df_combined.loc[\n",
    "    df_combined['country'] == 'AT', 'telefon2'].apply(\n",
    "        lambda x: '0043' + x[:-4] if x.endswith('0043') else x\n",
    "    )"
   ]
  },
  {
   "cell_type": "code",
   "execution_count": 87,
   "id": "8c849e61-fae5-40dc-8bc4-8322f872e1cd",
   "metadata": {},
   "outputs": [],
   "source": [
    "# Format telefon2 based on the specified conditions for country 'AT'\n",
    "df_combined.loc[df_combined['country'] == 'AT', 'telefon4'] = df_combined.loc[\n",
    "    df_combined['country'] == 'AT', 'telefon2'].apply(\n",
    "        lambda x: x if x.startswith('0043') else  #If it starts with 0043, leave it unchanged.\n",
    "        ('0043' + x[2:] if x.startswith('00') else  #If it starts with 00 (and is not already 0043), remove 00 and add 0043\n",
    "        ('0043' + x[2:] if x.startswith('43') else  #If it starts with 43, remove  the 43 and add 0043\n",
    "        ('0043' + x if not x.startswith(('00', '43')) else x)))  #If it doesn’t start with 00 or 43, prepend 0043\n",
    ")"
   ]
  },
  {
   "cell_type": "code",
   "execution_count": 89,
   "id": "4f789e93-587b-482f-a5de-a5a4d193a88b",
   "metadata": {},
   "outputs": [
    {
     "name": "stdout",
     "output_type": "stream",
     "text": [
      "    country        telefon2        telefon4\n",
      "865      AT  00436640020108  00436640020108\n",
      "866      AT      6643019220  00436643019220\n",
      "867      AT  00436764429785  00436764429785\n",
      "868      AT    436998521286  00436998521286\n",
      "869      AT    436763066695  00436763066695\n",
      "..      ...             ...             ...\n",
      "960      AT    436500567279  00436500567279\n",
      "961      AT    436641367242  00436641367242\n",
      "962      AT    436995515166  00436995515166\n",
      "963      AT    436505938972  00436505938972\n",
      "964      AT    004208712676  00434208712676\n",
      "\n",
      "[100 rows x 3 columns]\n"
     ]
    }
   ],
   "source": [
    "print(df_combined[df_combined['country'] == 'AT'][['country', 'telefon2', 'telefon4']].head(100))"
   ]
  },
  {
   "cell_type": "code",
   "execution_count": 91,
   "id": "cfd161d6-43d4-433b-a9b5-c8c55fc53b02",
   "metadata": {},
   "outputs": [
    {
     "name": "stdout",
     "output_type": "stream",
     "text": [
      "     country       telefon2\n",
      "1065      CH      300337878\n",
      "1066      CH    00415837154\n",
      "1067      CH    00037950679\n",
      "1068      CH  0041788579115\n",
      "1069      CH    41760352498\n",
      "1070      CH  0041792487154\n",
      "1071      CH    41760529174\n",
      "1072      CH    41785232139\n",
      "1073      CH       76242521\n",
      "1074      CH    00411583869\n",
      "1075      CH               \n",
      "1076      CH  0041796885332\n",
      "1077      CH  7805598100041\n",
      "1078      CH    41746737366\n",
      "1079      CH  0041783283043\n",
      "1080      CH      783585206\n",
      "1081      CH      782581264\n",
      "1082      CH       08565856\n",
      "1083      CH  7429698360041\n",
      "1084      CH      418361971\n",
      "1085      CH    00581054276\n",
      "1086      CH    00415873606\n",
      "1087      CH  0041761451509\n",
      "1088      CH    00418206960\n",
      "1089      CH    41762836124\n",
      "1090      CH      796332724\n",
      "1091      CH    41760985870\n",
      "1092      CH      419218554\n",
      "1093      CH        8883738\n",
      "1094      CH    00700566081\n",
      "1095      CH  0041813437327\n",
      "1096      CH    00415220366\n",
      "1097      CH    41769966950\n",
      "1098      CH  0041815564738\n",
      "1099      CH  0041819518198\n",
      "1100      CH    41813817589\n",
      "1101      CH    00411823736\n",
      "1102      CH          48527\n",
      "1103      CH       06480892\n",
      "1104      CH    41742155564\n",
      "1105      CH    41762722846\n",
      "1106      CH  0041787989921\n",
      "1107      CH    41782673853\n",
      "1108      CH    41769674333\n",
      "1109      CH    41788459068\n",
      "1110      CH    00419066268\n",
      "1111      CH    00302668878\n",
      "1112      CH  0041789095464\n",
      "1113      CH    41786687543\n",
      "1114      CH  0041744147691\n"
     ]
    }
   ],
   "source": [
    "print(df_combined[df_combined['country'] == 'CH'][['country', 'telefon2']].head(50))"
   ]
  },
  {
   "cell_type": "code",
   "execution_count": 93,
   "id": "25a0bc2d-9cd6-4549-a2d0-d6d6bbc37e18",
   "metadata": {},
   "outputs": [],
   "source": [
    "# Repeat same formatting for CH"
   ]
  },
  {
   "cell_type": "code",
   "execution_count": 95,
   "id": "0cc70194-6777-434c-9a2c-d4dfb6f26584",
   "metadata": {},
   "outputs": [],
   "source": [
    "# Format telefon4 based on the specified conditions for country 'CH'\n",
    "df_combined.loc[df_combined['country'] == 'CH', 'telefon4'] = df_combined.loc[\n",
    "    df_combined['country'] == 'CH', 'telefon2'].apply(\n",
    "        lambda x: x if x.startswith('0041') else\n",
    "        (x[2:] if x.startswith('00') and not x.startswith('0041') else\n",
    "        ('0041' + x[2:] if x.startswith('41') else \n",
    "        ('0041' + x if not x.startswith(('00', '41')) else x)))\n",
    "    )"
   ]
  },
  {
   "cell_type": "code",
   "execution_count": 97,
   "id": "f341903d-58b8-4416-a483-6e36a89906be",
   "metadata": {},
   "outputs": [
    {
     "name": "stdout",
     "output_type": "stream",
     "text": [
      "     country         telefon4\n",
      "1065      CH    0041300337878\n",
      "1066      CH      00415837154\n",
      "1067      CH        037950679\n",
      "1068      CH    0041788579115\n",
      "1069      CH    0041760352498\n",
      "...      ...              ...\n",
      "4284      CH  004128229776942\n",
      "4285      CH    0041275271212\n",
      "4286      CH    0041786176981\n",
      "4287      CH    0041562210015\n",
      "4288      CH    0041794727713\n",
      "\n",
      "[202 rows x 2 columns]\n"
     ]
    }
   ],
   "source": [
    "print(df_combined[df_combined['country'].isin(['CH'])][['country', 'telefon4']])"
   ]
  },
  {
   "cell_type": "code",
   "execution_count": 99,
   "id": "3189b511-cfd8-430b-bb39-a646358960b7",
   "metadata": {},
   "outputs": [],
   "source": [
    "# Remove '0041' from the end of telefon4 for country 'CH'\n",
    "df_combined.loc[df_combined['country'] == 'CH', 'telefon4'] = df_combined.loc[\n",
    "    df_combined['country'] == 'CH', 'telefon4'].apply(\n",
    "        lambda x: x[:-4] if x.endswith('0041') else x\n",
    "    )"
   ]
  },
  {
   "cell_type": "code",
   "execution_count": 101,
   "id": "27a26043-8488-4022-9224-b8fd25fe5f4a",
   "metadata": {},
   "outputs": [
    {
     "name": "stdout",
     "output_type": "stream",
     "text": [
      "     country         telefon4\n",
      "1065      CH    0041300337878\n",
      "1066      CH      00415837154\n",
      "1067      CH        037950679\n",
      "1068      CH    0041788579115\n",
      "1069      CH    0041760352498\n",
      "...      ...              ...\n",
      "4284      CH  004128229776942\n",
      "4285      CH    0041275271212\n",
      "4286      CH    0041786176981\n",
      "4287      CH    0041562210015\n",
      "4288      CH    0041794727713\n",
      "\n",
      "[202 rows x 2 columns]\n"
     ]
    }
   ],
   "source": [
    "print(df_combined[df_combined['country'].isin(['CH'])][['country', 'telefon4']])"
   ]
  },
  {
   "cell_type": "code",
   "execution_count": 103,
   "id": "b6545add-4352-4e1d-86f9-2d355d7ad15b",
   "metadata": {},
   "outputs": [],
   "source": [
    "# Set telefon4 to blank if it contains only '0049', '0043', or '0041'\n",
    "df_combined.loc[df_combined['telefon4'].isin(['0049', '0043', '0041']), 'telefon4'] = ''"
   ]
  },
  {
   "cell_type": "code",
   "execution_count": 105,
   "id": "38561fb8-c219-436d-ada1-6ad16c0b92a7",
   "metadata": {},
   "outputs": [
    {
     "name": "stdout",
     "output_type": "stream",
     "text": [
      "     country        telefon2          telefon4\n",
      "0         DE  00491778754883    00491778754883\n",
      "1         DE      1722086056    00491722086056\n",
      "2         DE    491734636476    00491734636476\n",
      "3         DE  00491786221169    00491786221169\n",
      "4         DE  00491604666050    00491604666050\n",
      "...      ...             ...               ...\n",
      "4765      DE     23490401110   004923490401110\n",
      "4766      DE    715116799710  0049715116799710\n",
      "4767      DE     21029434997   004921029434997\n",
      "4768      DE       284151254     0049284151254\n",
      "4769      DE     60833299884   004960833299884\n",
      "\n",
      "[4744 rows x 3 columns]\n"
     ]
    }
   ],
   "source": [
    "print(df_combined[df_combined['country'].isin(['DE', 'AT','CH'])][['country', 'telefon2', 'telefon4']])"
   ]
  },
  {
   "cell_type": "code",
   "execution_count": 107,
   "id": "804e8b2d-01aa-48ae-8346-252100190aec",
   "metadata": {},
   "outputs": [
    {
     "name": "stdout",
     "output_type": "stream",
     "text": [
      "['firma', 'street', 'plz', 'city', 'country', 'telefon', 'anrede', 'vorname', 'nachname', 'telefon2', 'telefon3', 'telefon4']\n"
     ]
    }
   ],
   "source": [
    "# Display all column names\n",
    "print(df_combined.columns.tolist())"
   ]
  },
  {
   "cell_type": "code",
   "execution_count": 109,
   "id": "d9835d9d-d8fb-4b84-bd37-5c70e5de4a00",
   "metadata": {},
   "outputs": [],
   "source": [
    "df_combined = df_combined.drop(columns=['telefon3'])"
   ]
  },
  {
   "cell_type": "code",
   "execution_count": 111,
   "id": "5cb2f419-43ae-4ec8-9dcb-172f140aefaa",
   "metadata": {},
   "outputs": [
    {
     "name": "stdout",
     "output_type": "stream",
     "text": [
      "                       firma                 street    plz       city country  \\\n",
      "0    Abschleppdienst Arnolds  Völlesbruchstrasse 19  52152  Simmerath      DE   \n",
      "1              AAS-Fink GmbH            Morsbach 39  42857  Remscheid      DE   \n",
      "2  Allfolia Deutschland GmbH            Morsbach 39  42857  Remscheid      DE   \n",
      "3    Autohaus Hentschel GmbH  Vahrenwalder Str. 141  30165   Hannover      DE   \n",
      "4      Autohaus Schmohl GmbH     Potsdamer Str. 175  14469    Potsdam      DE   \n",
      "\n",
      "            telefon anrede vorname nachname        telefon2        telefon4  \n",
      "0   0049177-8754883    NaN     NaN      NaN  00491778754883  00491778754883  \n",
      "1       172.2086056    NaN     NaN      NaN      1722086056  00491722086056  \n",
      "2      491734636476    NaN     NaN      NaN    491734636476  00491734636476  \n",
      "3   +49\u001d",
      "17\u001186221169    NaN     NaN      NaN  00491786221169  00491786221169  \n",
      "4  0049/160466 6050    NaN     NaN      NaN  00491604666050  00491604666050  \n"
     ]
    }
   ],
   "source": [
    "print(df_combined.head())"
   ]
  },
  {
   "cell_type": "code",
   "execution_count": 113,
   "id": "e0b08eea-d83f-42aa-b8ef-132744d9858f",
   "metadata": {},
   "outputs": [],
   "source": [
    "# Replace NaN values with blank strings for specified columns\n",
    "df_combined[['anrede', 'vorname', 'nachname']] = df_combined[['anrede', 'vorname', 'nachname']].fillna('')"
   ]
  },
  {
   "cell_type": "code",
   "execution_count": 115,
   "id": "0f56ca98-3623-46bd-a091-e0c9f7c44361",
   "metadata": {},
   "outputs": [],
   "source": [
    "# Create a new column 'country_code' with the first 4 digits of 'telefon4'\n",
    "df_combined['country_code'] = df_combined['telefon4'].str[:4]\n",
    "\n",
    "# Remove the first 4 digits from 'telefon4' to get the local number\n",
    "df_combined['telefon4'] = df_combined['telefon4'].str[4:]"
   ]
  },
  {
   "cell_type": "code",
   "execution_count": 117,
   "id": "02089083-b1e5-4baa-b3b7-2758468501f8",
   "metadata": {},
   "outputs": [
    {
     "name": "stdout",
     "output_type": "stream",
     "text": [
      "                       firma                 street    plz       city country  \\\n",
      "0    Abschleppdienst Arnolds  Völlesbruchstrasse 19  52152  Simmerath      DE   \n",
      "1              AAS-Fink GmbH            Morsbach 39  42857  Remscheid      DE   \n",
      "2  Allfolia Deutschland GmbH            Morsbach 39  42857  Remscheid      DE   \n",
      "3    Autohaus Hentschel GmbH  Vahrenwalder Str. 141  30165   Hannover      DE   \n",
      "4      Autohaus Schmohl GmbH     Potsdamer Str. 175  14469    Potsdam      DE   \n",
      "\n",
      "            telefon anrede vorname nachname        telefon2    telefon4  \\\n",
      "0   0049177-8754883                          00491778754883  1778754883   \n",
      "1       172.2086056                              1722086056  1722086056   \n",
      "2      491734636476                            491734636476  1734636476   \n",
      "3   +49\u001d",
      "17\u001186221169                          00491786221169  1786221169   \n",
      "4  0049/160466 6050                          00491604666050  1604666050   \n",
      "\n",
      "  country_code  \n",
      "0         0049  \n",
      "1         0049  \n",
      "2         0049  \n",
      "3         0049  \n",
      "4         0049  \n"
     ]
    }
   ],
   "source": [
    "print(df_combined.head())"
   ]
  },
  {
   "cell_type": "code",
   "execution_count": 119,
   "id": "0e75e6f8-2f95-443b-becb-41cbb0fe1225",
   "metadata": {},
   "outputs": [],
   "source": [
    "# Rename the column 'telefone4' to 'local_phone_number'\n",
    "df_combined.rename(columns={'telefon4': 'local_phone_number'}, inplace=True)"
   ]
  },
  {
   "cell_type": "code",
   "execution_count": 121,
   "id": "802cf023-30b0-4ea2-9f25-3736c9f3bc7b",
   "metadata": {},
   "outputs": [
    {
     "name": "stdout",
     "output_type": "stream",
     "text": [
      "                       firma                 street    plz       city country  \\\n",
      "0    Abschleppdienst Arnolds  Völlesbruchstrasse 19  52152  Simmerath      DE   \n",
      "1              AAS-Fink GmbH            Morsbach 39  42857  Remscheid      DE   \n",
      "2  Allfolia Deutschland GmbH            Morsbach 39  42857  Remscheid      DE   \n",
      "3    Autohaus Hentschel GmbH  Vahrenwalder Str. 141  30165   Hannover      DE   \n",
      "4      Autohaus Schmohl GmbH     Potsdamer Str. 175  14469    Potsdam      DE   \n",
      "\n",
      "            telefon anrede vorname nachname        telefon2  \\\n",
      "0   0049177-8754883                          00491778754883   \n",
      "1       172.2086056                              1722086056   \n",
      "2      491734636476                            491734636476   \n",
      "3   +49\u001d",
      "17\u001186221169                          00491786221169   \n",
      "4  0049/160466 6050                          00491604666050   \n",
      "\n",
      "  local_phone_number country_code  \n",
      "0         1778754883         0049  \n",
      "1         1722086056         0049  \n",
      "2         1734636476         0049  \n",
      "3         1786221169         0049  \n",
      "4         1604666050         0049  \n"
     ]
    }
   ],
   "source": [
    "print(df_combined.head())"
   ]
  },
  {
   "cell_type": "code",
   "execution_count": 123,
   "id": "2bfb1ceb-e723-437e-9f9a-f70cabe8539b",
   "metadata": {},
   "outputs": [],
   "source": [
    "# Rearrange the columns in the specified order\n",
    "df_combined = df_combined[['firma', 'street', 'plz', 'city', 'country', 'country_code', 'local_phone_number', 'anrede', 'vorname', 'nachname']]"
   ]
  },
  {
   "cell_type": "code",
   "execution_count": 125,
   "id": "c67e8d14-a82d-468b-b48b-5e50d1f18bb5",
   "metadata": {},
   "outputs": [
    {
     "name": "stdout",
     "output_type": "stream",
     "text": [
      "['firma', 'street', 'plz', 'city', 'country', 'country_code', 'local_phone_number', 'anrede', 'vorname', 'nachname']\n"
     ]
    }
   ],
   "source": [
    "# Print the column names to confirm the order\n",
    "print(df_combined.columns.tolist())"
   ]
  },
  {
   "cell_type": "code",
   "execution_count": 127,
   "id": "4c23d204-395a-481d-91f8-43a6ee27d0a7",
   "metadata": {},
   "outputs": [],
   "source": [
    "#Change df name to lead_data_cleaned\n",
    "df_lead_data_cleaned = df_combined"
   ]
  },
  {
   "cell_type": "code",
   "execution_count": 129,
   "id": "60e38859-ed16-4144-b14f-07a5a1f5fb3e",
   "metadata": {},
   "outputs": [],
   "source": [
    "#Save cleaned data to .csv output\n",
    "df_lead_data_cleaned.to_csv('df_lead_data_cleaned .csv', index=False)"
   ]
  },
  {
   "cell_type": "code",
   "execution_count": 133,
   "id": "4b811b68-36cf-4890-a8bd-c8758afd3ffb",
   "metadata": {},
   "outputs": [],
   "source": [
    "# For country 'CH', if country_code is not '0041', prepend it to local_phone_number\n",
    "df_lead_data_cleaned.loc[\n",
    "    (df_lead_data_cleaned['country'] == 'CH') & (df_lead_data_cleaned['country_code'] != '0041'),\n",
    "    'local_phone_number'\n",
    "] = df_lead_data_cleaned.loc[\n",
    "    (df_lead_data_cleaned['country'] == 'CH') & (df_lead_data_cleaned['country_code'] != '0041'),\n",
    "    'country_code'\n",
    "].astype(str) + df_lead_data_cleaned.loc[\n",
    "    (df_lead_data_cleaned['country'] == 'CH') & (df_lead_data_cleaned['country_code'] != '0041'),\n",
    "    'local_phone_number'\n",
    "].astype(str)"
   ]
  },
  {
   "cell_type": "code",
   "execution_count": 135,
   "id": "1dfb20c4-04c2-4787-b44b-d659b9ac9f95",
   "metadata": {},
   "outputs": [],
   "source": [
    "# For country 'CH', replace country_code with '0041' if it is not '0041'\n",
    "df_lead_data_cleaned.loc[\n",
    "    (df_lead_data_cleaned['country'] == 'CH') & (df_lead_data_cleaned['country_code'] != '0041'), \n",
    "    'country_code'\n",
    "] = '0041'"
   ]
  },
  {
   "cell_type": "code",
   "execution_count": 143,
   "id": "2881e29e-0607-411d-adc1-3db3f8cdec6d",
   "metadata": {},
   "outputs": [],
   "source": [
    "#Save cleaned data to .csv output\n",
    "df_lead_data_cleaned.to_csv('df_lead_data_cleaned.csv', index=False)"
   ]
  },
  {
   "cell_type": "code",
   "execution_count": 145,
   "id": "0900bd33-f9b8-4f1b-9555-18fab4884044",
   "metadata": {},
   "outputs": [],
   "source": [
    "# Ensure country_code is a string with leading zeros\n",
    "df_lead_data_cleaned['country_code'] = df_lead_data_cleaned['country_code'].replace('', '0000')\n",
    "\n",
    "# Ensure country_code is a string with leading zeros\n",
    "df_lead_data_cleaned['country_code'] = df_lead_data_cleaned['country_code'].apply(lambda x: f\"{int(x):04d}\" if x.isdigit() else x)"
   ]
  },
  {
   "cell_type": "code",
   "execution_count": 147,
   "id": "f55416a5-e8a9-4a07-87b0-a8be6c728d17",
   "metadata": {},
   "outputs": [],
   "source": [
    "#Save cleaned data to .csv output\n",
    "df_lead_data_cleaned.to_csv('df_lead_data_cleaned.csv', index=False)"
   ]
  },
  {
   "cell_type": "code",
   "execution_count": 149,
   "id": "7773385b-de47-41cc-a41c-fac1bd5624e7",
   "metadata": {},
   "outputs": [
    {
     "name": "stdout",
     "output_type": "stream",
     "text": [
      "                       firma                 street    plz       city country  \\\n",
      "0    Abschleppdienst Arnolds  Völlesbruchstrasse 19  52152  Simmerath      DE   \n",
      "1              AAS-Fink GmbH            Morsbach 39  42857  Remscheid      DE   \n",
      "2  Allfolia Deutschland GmbH            Morsbach 39  42857  Remscheid      DE   \n",
      "3    Autohaus Hentschel GmbH  Vahrenwalder Str. 141  30165   Hannover      DE   \n",
      "4      Autohaus Schmohl GmbH     Potsdamer Str. 175  14469    Potsdam      DE   \n",
      "\n",
      "  country_code local_phone_number anrede vorname nachname  \n",
      "0         0049         1778754883                          \n",
      "1         0049         1722086056                          \n",
      "2         0049         1734636476                          \n",
      "3         0049         1786221169                          \n",
      "4         0049         1604666050                          \n"
     ]
    }
   ],
   "source": [
    "print(df_lead_data_cleaned.head())"
   ]
  },
  {
   "cell_type": "code",
   "execution_count": 155,
   "id": "52d3ee14-515c-44fa-be0d-5872f8a2558e",
   "metadata": {},
   "outputs": [],
   "source": [
    "# If any DE column has only 49, change it to 0049\n",
    "df_lead_data_cleaned['country_code'] = df_lead_data_cleaned.apply(\n",
    "    lambda row: '0049' if row['country'] == 'DE' and row['country_code'] == 49 else row['country_code'],\n",
    "    axis=1\n",
    ")"
   ]
  },
  {
   "cell_type": "code",
   "execution_count": 157,
   "id": "aecbfc76-ef48-4a1f-8559-a982b780598b",
   "metadata": {},
   "outputs": [
    {
     "name": "stdout",
     "output_type": "stream",
     "text": [
      "  country country_code local_phone_number\n",
      "0      DE         0049         1778754883\n",
      "1      DE         0049         1722086056\n",
      "2      DE         0049         1734636476\n",
      "3      DE         0049         1786221169\n",
      "4      DE         0049         1604666050\n"
     ]
    }
   ],
   "source": [
    "print(df_lead_data_cleaned[df_lead_data_cleaned['country'] == 'DE'][['country', 'country_code', 'local_phone_number']].head())"
   ]
  },
  {
   "cell_type": "code",
   "execution_count": 159,
   "id": "6971f4cd-c2b4-47a6-a6e9-3daa2a1ddd04",
   "metadata": {},
   "outputs": [
    {
     "name": "stdout",
     "output_type": "stream",
     "text": [
      "    country country_code local_phone_number\n",
      "865      AT         0043         6640020108\n",
      "866      AT         0043         6643019220\n",
      "867      AT         0043         6764429785\n",
      "868      AT         0043         6998521286\n",
      "869      AT         0043         6763066695\n"
     ]
    }
   ],
   "source": [
    "print(df_lead_data_cleaned[df_lead_data_cleaned['country'] == 'AT'][['country', 'country_code', 'local_phone_number']].head())"
   ]
  },
  {
   "cell_type": "code",
   "execution_count": 161,
   "id": "68cd2af1-8851-4d9e-9d61-5bafb1436524",
   "metadata": {},
   "outputs": [
    {
     "name": "stdout",
     "output_type": "stream",
     "text": [
      "     country country_code local_phone_number\n",
      "1065      CH         0041          300337878\n",
      "1066      CH         0041            5837154\n",
      "1067      CH         0041          037950679\n",
      "1068      CH         0041          788579115\n",
      "1069      CH         0041          760352498\n"
     ]
    }
   ],
   "source": [
    "print(df_lead_data_cleaned[df_lead_data_cleaned['country'] == 'CH'][['country', 'country_code', 'local_phone_number']].head())"
   ]
  },
  {
   "cell_type": "code",
   "execution_count": 165,
   "id": "37089764-aff6-4cf7-92d2-cef96b981cc5",
   "metadata": {},
   "outputs": [],
   "source": [
    "#Save cleaned data to .csv output\n",
    "df_lead_data_cleaned.to_csv('lead_data_cleaned.csv', index=False)"
   ]
  },
  {
   "cell_type": "code",
   "execution_count": null,
   "id": "9a7d5cba-9e49-42fa-aeff-7a1b5159c43b",
   "metadata": {},
   "outputs": [],
   "source": []
  }
 ],
 "metadata": {
  "kernelspec": {
   "display_name": "Python 3 (ipykernel)",
   "language": "python",
   "name": "python3"
  },
  "language_info": {
   "codemirror_mode": {
    "name": "ipython",
    "version": 3
   },
   "file_extension": ".py",
   "mimetype": "text/x-python",
   "name": "python",
   "nbconvert_exporter": "python",
   "pygments_lexer": "ipython3",
   "version": "3.12.4"
  }
 },
 "nbformat": 4,
 "nbformat_minor": 5
}
